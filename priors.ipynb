{
 "cells": [
  {
   "cell_type": "code",
   "execution_count": 1,
   "metadata": {},
   "outputs": [],
   "source": [
    "import torch\n",
    "import sbi.utils as utils\n",
    "from sbi.inference.base import infer\n",
    "import matplotlib.pyplot as plt\n",
    "import math\n",
    "from torch.distributions import Independent, Distribution\n",
    "from sbi.types import Array, OneOrMore, ScalarFloat\n",
    "import numpy as np"
   ]
  },
  {
   "cell_type": "code",
   "execution_count": 2,
   "metadata": {},
   "outputs": [],
   "source": [
    "def simulator(parameter_set):\n",
    "    return 1.0 + parameter_set + torch.randn(parameter_set.shape) * 0.1"
   ]
  },
  {
   "cell_type": "code",
   "execution_count": 3,
   "metadata": {},
   "outputs": [],
   "source": [
    "class fabricated_priors(Distribution): \n",
    "    \n",
    "    '''\n",
    "    This class takes in two lists of tensors containing either lower and upper limits or \n",
    "    mean and std deviation of the paramters in the prior. \n",
    "    \n",
    "    Prior = fabricated_priors(low/mean =torch.tensor([a1,b1,...]), up/std = torch.tensor([a2,b2,...]))\n",
    "    \n",
    "    In the function log_prob, their distribution is identified based on the order of the parameters.\n",
    "    Funtion normal_dist is invoked for a normal dist and function uniform_dist for a uniform distribution. \n",
    "    It returns with a value of log probability. Similarly for sampling in the method sample. \n",
    "    \n",
    "    It contains two methods, log_prob and sample. \n",
    "    \n",
    "    Args:\n",
    "    \n",
    "    low: list of tensors of the lower values/mean of various parameters. \n",
    "    high: list of tensors of the upper values/std deviation of various parameters.\n",
    "    \n",
    "    Returns:\n",
    "    A sample of each parameter distribution within the required range.    \n",
    "    \n",
    "    '''\n",
    "    \n",
    "    def __init__(self, a,b, validate_args=None):\n",
    "        #ranges of distributions\n",
    "        \n",
    "        self._mean = a[:1]\n",
    "        self._std = b[:1]\n",
    "        self._low = a[1:]   \n",
    "        self._high = b[1:]\n",
    "        \n",
    "        batch_shape= a.size()\n",
    "        event_shape = torch.tensor([])\n",
    "        \n",
    "        super(fabricated_priors, self).__init__(batch_shape, validate_args=validate_args)\n",
    "        \n",
    "    def normal_dist(self, value):\n",
    "        #print('vn:', value)\n",
    "        var = (self._std ** 2)\n",
    "        log_scale = math.log(self._std) \n",
    "        #print('n: ',torch.sum(-((value - self._mean) ** 2) / (2 * var) - log_scale - math.log(math.sqrt(2 * math.pi))))\n",
    "        return torch.sum(-((value - self._mean) ** 2) / (2 * var) - log_scale - math.log(math.sqrt(2 * math.pi)))\n",
    "    \n",
    "    def sample_normal(self, sample_shape=torch.Size()):\n",
    "        shape = sample_shape + self._mean.size()\n",
    "        return torch.normal(self._mean.expand(shape), self._std.expand(shape))\n",
    "\n",
    "    def uniform_dist(self, value):\n",
    "        #print('vu:', value)\n",
    "        lb = self._low.le(value).type_as(self._low)\n",
    "        ub = self._high.gt(value).type_as(self._low)\n",
    "        #print('u: ', torch.sum(torch.log(lb.mul(ub)) - torch.log(self._high - self._low)))\n",
    "        return torch.sum(torch.log(lb.mul(ub)) - torch.log(self._high - self._low))\n",
    "\n",
    "    def sample_uniform(self, sample_shape=torch.Size()):\n",
    "        shape = sample_shape + self._low.size()\n",
    "        rand = torch.rand(shape, dtype=self._low.dtype, device=self._low.device)\n",
    "        return self._low + rand * (self._high - self._low)\n",
    "    \n",
    "    def log_prob(self, value): #vlaue = torch.tensor([a,b,c,...])- values picked \n",
    "        \n",
    "        log_prob = self.normal_dist(value[0,:1])+ self.uniform_dist(value[0,1:]) #sum\n",
    "        log_prob = log_prob.unsqueeze(-1).T\n",
    "        log_prob = log_prob.unsqueeze(-1).T\n",
    "        return log_prob        \n",
    "                \n",
    "    def sample(self, sample_shape= torch.Size()): \n",
    "        n = self.sample_normal(sample_shape)\n",
    "        u = self.sample_uniform(sample_shape)\n",
    "        if sample_shape == torch.Size([]):\n",
    "            n = n.unsqueeze(-1).T\n",
    "            u = u.unsqueeze(-1).T\n",
    "        samp = torch.cat((n, u), 1)\n",
    "        return samp\n",
    "        \n",
    "        "
   ]
  },
  {
   "cell_type": "code",
   "execution_count": 4,
   "metadata": {},
   "outputs": [],
   "source": [
    "class BoxUniform_new(Independent):\n",
    "    def __init__(\n",
    "        self, a: ScalarFloat, b: ScalarFloat, reinterpreted_batch_ndims: int = 1,\n",
    "    ):\n",
    "        \"\"\"Multidimensional uniform distribution defined on a box.\n",
    "        A `Uniform` distribution initialized with e.g. a parameter vector low or high of\n",
    "         length 3 will result in a /batch/ dimension of length 3. A log_prob evaluation\n",
    "         will then output three numbers, one for each of the independent Uniforms in\n",
    "         the batch. Instead, a `BoxUniform` initialized in the same way has three\n",
    "         /event/ dimensions, and returns a scalar log_prob corresponding to whether\n",
    "         the evaluated point is in the box defined by low and high or outside.\n",
    "        Refer to torch.distributions.Uniform and torch.distributions.Independent for\n",
    "         further documentation.\n",
    "        Args:\n",
    "            low: lower range (inclusive).\n",
    "            high: upper range (exclusive).\n",
    "            reinterpreted_batch_ndims (int): the number of batch dims to\n",
    "                                             reinterpret as event dims.\n",
    "        \"\"\"\n",
    "\n",
    "        super().__init__(fabricated_priors(a=a, b=b), reinterpreted_batch_ndims)"
   ]
  },
  {
   "cell_type": "code",
   "execution_count": 5,
   "metadata": {},
   "outputs": [],
   "source": [
    "p = BoxUniform_new(torch.tensor([0.5,6,7,10]), torch.tensor([0.1,10,12,12]))\n",
    "#pp = utils.BoxUniform(torch.tensor([0.5, 0.6, 0.7]), torch.tensor([0.7, 0.8,1.0]))"
   ]
  },
  {
   "cell_type": "code",
   "execution_count": 6,
   "metadata": {
    "scrolled": true
   },
   "outputs": [
    {
     "data": {
      "application/vnd.jupyter.widget-view+json": {
       "model_id": "5618f5c86f2f4bc39699940f0e779107",
       "version_major": 2,
       "version_minor": 0
      },
      "text/plain": [
       "HBox(children=(HTML(value='Running 1000 simulations.'), FloatProgress(value=0.0, max=1000.0), HTML(value='')))"
      ]
     },
     "metadata": {},
     "output_type": "display_data"
    },
    {
     "name": "stdout",
     "output_type": "stream",
     "text": [
      "\n",
      "Neural network successfully converged after 65 epochs.\n"
     ]
    }
   ],
   "source": [
    "posterior = infer(simulator, p , method='SNRE_a', num_simulations=1000)"
   ]
  },
  {
   "cell_type": "code",
   "execution_count": 7,
   "metadata": {},
   "outputs": [],
   "source": [
    "observation = simulator(torch.tensor([0.5, 8, 10, 11]))"
   ]
  },
  {
   "cell_type": "code",
   "execution_count": 8,
   "metadata": {
    "scrolled": true
   },
   "outputs": [
    {
     "name": "stderr",
     "output_type": "stream",
     "text": [
      "Tuning bracket width...: 100%|██████████| 50/50 [00:01<00:00, 39.25it/s]\n",
      "Generating samples: 100%|██████████| 20/20 [00:04<00:00,  4.77it/s]\n",
      "Generating samples: 100%|██████████| 100/100 [00:20<00:00,  4.80it/s]\n"
     ]
    }
   ],
   "source": [
    "samples = posterior.sample((100,), x=observation)"
   ]
  },
  {
   "cell_type": "code",
   "execution_count": null,
   "metadata": {},
   "outputs": [],
   "source": []
  },
  {
   "cell_type": "code",
   "execution_count": 9,
   "metadata": {},
   "outputs": [
    {
     "data": {
      "image/png": "[encoded data removed]",
      "text/plain": [
       "<Figure size 432x432 with 16 Axes>"
      ]
     },
     "metadata": {
      "needs_background": "light"
     },
     "output_type": "display_data"
    }
   ],
   "source": [
    "log_probability = posterior.log_prob(samples, x=observation)\n",
    "_ = utils.pairplot(samples, limits=[[0,1],[6,10],[7,12],[10,12]], fig_size=(6,6))"
   ]
  },
  {
   "cell_type": "code",
   "execution_count": null,
   "metadata": {},
   "outputs": [],
   "source": []
  },
  {
   "cell_type": "code",
   "execution_count": null,
   "metadata": {},
   "outputs": [],
   "source": []
  },
  {
   "cell_type": "code",
   "execution_count": null,
   "metadata": {},
   "outputs": [],
   "source": []
  },
  {
   "cell_type": "code",
   "execution_count": null,
   "metadata": {},
   "outputs": [],
   "source": []
  },
  {
   "cell_type": "code",
   "execution_count": null,
   "metadata": {},
   "outputs": [],
   "source": []
  },
  {
   "cell_type": "code",
   "execution_count": null,
   "metadata": {},
   "outputs": [],
   "source": []
  },
  {
   "cell_type": "code",
   "execution_count": 3,
   "metadata": {},
   "outputs": [],
   "source": [
    "import numpy as np"
   ]
  },
  {
   "cell_type": "code",
   "execution_count": 4,
   "metadata": {},
   "outputs": [
    {
     "data": {
      "text/plain": [
       "(4,)"
      ]
     },
     "execution_count": 4,
     "metadata": {},
     "output_type": "execute_result"
    }
   ],
   "source": [
    "a= [1,2,3,4]\n",
    "np.shape(a)"
   ]
  },
  {
   "cell_type": "code",
   "execution_count": null,
   "metadata": {},
   "outputs": [],
   "source": []
  }
 ],
 "metadata": {
  "kernelspec": {
   "display_name": "Python [conda env:petitRT]",
   "language": "python",
   "name": "conda-env-petitRT-py"
  },
  "language_info": {
   "codemirror_mode": {
    "name": "ipython",
    "version": 3
   },
   "file_extension": ".py",
   "mimetype": "text/x-python",
   "name": "python",
   "nbconvert_exporter": "python",
   "pygments_lexer": "ipython3",
   "version": "3.7.9"
  }
 },
 "nbformat": 4,
 "nbformat_minor": 4
}
