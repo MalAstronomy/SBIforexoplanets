{
 "cells": [
  {
   "cell_type": "code",
   "execution_count": 1,
   "metadata": {},
   "outputs": [],
   "source": [
    "import time\n",
    "from petitRADTRANS import Radtrans\n",
    "import petitRADTRANS.retrieval_examples.emission.master_retrieval_model as rm\n",
    "from petitRADTRANS import nat_cst as nc\n",
    "import petitRADTRANS.rebin_give_width as rgw\n",
    "from scipy.interpolate import interp1d\n",
    "import sklearn\n",
    "\n",
    "import numpy as np\n",
    "import matplotlib.pyplot as plt\n",
    "import math\n",
    "import pandas as pd\n",
    "import os\n",
    "import sys\n",
    "\n",
    "from torch.distributions import Independent, Distribution\n",
    "from fab_priors import BoxUniform_New\n",
    "\n",
    "import torch\n",
    "from sbi.inference import SNRE_A, SNRE, prepare_for_sbi, simulate_for_sbi\n",
    "from sbi.utils.get_nn_models import posterior_nn\n",
    "from sbi import utils as utils\n",
    "from sbi.types import Array, OneOrMore, ScalarFloat\n",
    "\n",
    "from Coverage_eval_SBI import Coverage_class\n",
    "\n",
    "np.set_printoptions(threshold=sys.maxsize)\n",
    "torch.set_printoptions(threshold=10_000)"
   ]
  },
  {
   "cell_type": "code",
   "execution_count": 2,
   "metadata": {},
   "outputs": [],
   "source": [
    "op= '/home/mvasist/petitRADTRANS/petitRADTRANS/retrieval_examples/emission/'\n",
    "observation_files = {}\n",
    "observation_files['NIRISS SOSS'] = op +'NIRISS_SOSS_flux.dat'\n",
    "observation_files['NIRSpec G395M'] = op +'NIRSpec_G395M_flux.dat'\n",
    "observation_files['MIRI LRS'] = op +'MIRI_LRS_flux.dat'\n",
    "\n",
    "# Wavelength range of observations, fixed parameters that will not be retrieved\n",
    "WLENGTH = [0.3, 15.0] \n",
    "# LOG_G =  2.58\n",
    "R_pl =   1.84*nc.r_jup_mean\n",
    "R_star = 1.81*nc.r_sun\n",
    "gamma = 1\n",
    "t_equ= 0\n",
    "\n",
    "# Get host star spectrum to calculate F_pl / F_star later.\n",
    "T_star = 6295.\n",
    "x = nc.get_PHOENIX_spec(T_star)\n",
    "fstar = interp1d(x[:,0], x[:,1])"
   ]
  },
  {
   "cell_type": "code",
   "execution_count": 3,
   "metadata": {},
   "outputs": [
    {
     "name": "stdout",
     "output_type": "stream",
     "text": [
      "NIRISS SOSS\n",
      "NIRSpec G395M\n",
      "MIRI LRS\n"
     ]
    }
   ],
   "source": [
    "####################################################################################\n",
    "####################################################################################\n",
    "### READ IN OBSERVATION\n",
    "####################################################################################\n",
    "####################################################################################\n",
    "\n",
    "# Read in data, convert all to cgs! \n",
    "\n",
    "'''\n",
    "Im using only data_flux_nu_error['MIRI LRS'] from here to calculate the likelihood. \n",
    "'''\n",
    "\n",
    "data_wlen = {}\n",
    "data_flux_nu = {}\n",
    "data_flux_nu_error = {}\n",
    "data_wlen_bins = {}\n",
    "\n",
    "for name in observation_files.keys():\n",
    "    print(name)\n",
    "    dat_obs = np.genfromtxt(observation_files[name])\n",
    "    data_wlen[name] = dat_obs[:,0]*1e-4\n",
    "    data_flux_nu[name] = dat_obs[:,1]\n",
    "    data_flux_nu_error[name] = dat_obs[:,2]\n",
    "    \n",
    "    data_wlen_bins[name] = np.zeros_like(data_wlen[name])\n",
    "    data_wlen_bins[name][:-1] = np.diff(data_wlen[name])\n",
    "    data_wlen_bins[name][-1] = data_wlen_bins[name][-2]"
   ]
  },
  {
   "cell_type": "code",
   "execution_count": 4,
   "metadata": {},
   "outputs": [],
   "source": [
    "def Simulator(params): \n",
    "\n",
    "    NaN_spectra = 0\n",
    "\n",
    "    atmosphere = Radtrans(line_species = ['H2O', 'CO_all_iso', \\\n",
    "                                         'CO2', 'CH4', \\\n",
    "                                          'Na', 'K'], \\\n",
    "          rayleigh_species = ['H2', 'He'], \\\n",
    "          continuum_opacities = ['H2-H2', 'H2-He'], \\\n",
    "          wlen_bords_micron = WLENGTH)#, mode='c-k')\n",
    "\n",
    "\n",
    "    pressures = np.logspace(-6, 2, 100)\n",
    "    atmosphere.setup_opa_structure(pressures)\n",
    "    temperature = 1200. * np.ones_like(pressures)\n",
    "\n",
    "    \n",
    "    t_int = params[0].numpy()                             #200.\n",
    "    log_kappa_IR = params[1].numpy()                      #-2\n",
    "    log_gravity = params[2].numpy()                       #params[5].numpy() 1e1**2.45 \n",
    "\n",
    "    gravity = np.exp(log_gravity)\n",
    "    kappa_IR = np.exp(log_kappa_IR)\n",
    "    \n",
    "    temperature = nc.guillot_global(pressures, kappa_IR, gamma, gravity, t_int, t_equ)\n",
    "    \n",
    "    abundances = {}\n",
    "    abundances['H2'] = np.exp(params[3].numpy())*np.ones_like(temperature)         #0.74 * np.ones_like(temperature) (params[3].numpy()) 0.75 * np.ones_like(temperature)\n",
    "    abundances['He'] = np.exp(params[4].numpy())*np.ones_like(temperature)         #0.25 * np.ones_like(temperature)  #0.24 * np.ones_like(temperature) (params[4].numpy())\n",
    "    abundances['H2O'] = np.exp(params[5].numpy())*np.ones_like(temperature)        #0.001 * np.ones_like(temperature)\n",
    "    abundances['CO_all_iso'] = np.exp(params[6].numpy())*np.ones_like(temperature) #0.01 * np.ones_like(temperature)\n",
    "    abundances['CO2'] = np.exp(params[7].numpy())*np.ones_like(temperature)        #0.00001 * np.ones_like(temperature)\n",
    "    abundances['CH4'] = np.exp(params[8].numpy())*np.ones_like(temperature)        #0.000001 * np.ones_like(temperature)\n",
    "    abundances['Na'] = np.exp(params[9].numpy())*np.ones_like(temperature)         #0.00001 * np.ones_like(temperature)\n",
    "    abundances['K'] = np.exp(params[10].numpy())*np.ones_like(temperature)          #0.000001 * np.ones_like(temperature)\n",
    "\n",
    "    MMW = rm.calc_MMW(abundances) * np.ones_like(temperature)\n",
    "    \n",
    "    atmosphere.calc_flux(temperature, abundances, gravity, MMW)\n",
    "\n",
    "    wlen, flux_nu = nc.c/atmosphere.freq, atmosphere.flux/1e-6\n",
    "\n",
    "    # Just to make sure that a long chain does not die\n",
    "    # unexpectedly:\n",
    "    # Return -inf if forward model returns NaN values\n",
    "    if np.sum(np.isnan(flux_nu)) > 0:\n",
    "        print(\"NaN spectrum encountered\")\n",
    "        NaN_spectra += 1\n",
    "        return torch.ones([1,371])* -np.inf\n",
    "\n",
    "    # Convert to observation for emission case\n",
    "    flux_star = fstar(wlen)\n",
    "    flux_sq   = flux_nu/flux_star*(R_pl/R_star)**2 \n",
    "\n",
    "    flux_rebinned = rgw.rebin_give_width(wlen, flux_sq, \\\n",
    "                data_wlen['MIRI LRS'], data_wlen_bins['MIRI LRS'])\n",
    "\n",
    "    #flux_rebinned = np.reshape(flux_rebinned, (371,1))    \n",
    "\n",
    "    FR= torch.Tensor(flux_rebinned)\n",
    "    \n",
    "    p1, t1 = pressures, temperature\n",
    "    \n",
    "    return FR ,wlen, flux_nu, p1, t1   \n"
   ]
  },
  {
   "cell_type": "code",
   "execution_count": null,
   "metadata": {},
   "outputs": [],
   "source": []
  },
  {
   "cell_type": "code",
   "execution_count": 5,
   "metadata": {},
   "outputs": [],
   "source": [
    "\n",
    "abund = ['He', 'H2', 'H20', 'CO_all_iso', 'CO2', 'CH4', 'Na', 'K']\n",
    "arr = np.zeros((8,8))\n",
    "# abundances_values = [np.log(0.75), np.log(0.25), -3, -2, -5, -6, -5, -6] \n",
    "# np.fill_diagonal(arr, abundances_values)\n",
    "\n",
    "abundances_values_0 = [0, 0, 0, 0, 0, 0, 0, 0] \n",
    "np.fill_diagonal(arr, abundances_values_0)\n",
    "\n",
    "abundances = arr\n"
   ]
  },
  {
   "cell_type": "code",
   "execution_count": null,
   "metadata": {},
   "outputs": [],
   "source": []
  },
  {
   "cell_type": "code",
   "execution_count": 6,
   "metadata": {
    "scrolled": false
   },
   "outputs": [
    {
     "name": "stdout",
     "output_type": "stream",
     "text": [
      "[0. 0. 0. 0. 0. 0. 0. 0.]\n",
      "\n",
      "  Read CIA opacities for H2-H2...\n",
      "  Read CIA opacities for H2-He...\n",
      " Done.\n",
      "\n"
     ]
    },
    {
     "data": {
      "image/png": "[encoded data removed]",
      "text/plain": [
       "<Figure size 720x504 with 1 Axes>"
      ]
     },
     "metadata": {
      "needs_background": "light"
     },
     "output_type": "display_data"
    },
    {
     "data": {
      "text/plain": [
       "<Figure size 432x288 with 0 Axes>"
      ]
     },
     "metadata": {},
     "output_type": "display_data"
    }
   ],
   "source": [
    "for ind, ab in enumerate(abundances):\n",
    "    print(ab)\n",
    "    observation1, wlen, flux_nu, p1, t1 = Simulator([torch.ones(1)*2000.,torch.ones(1)*-2.0, torch.ones(1)*2.58,\\\n",
    "                                                    torch.ones(1)*ab[0], torch.ones(1)*ab[1], torch.ones(1)*ab[2],\\\n",
    "                                                    torch.ones(1)*ab[3], torch.ones(1)*ab[4], torch.ones(1)*ab[5],\\\n",
    "                                                    torch.ones(1)*ab[6], torch.ones(1)*ab[7]])\n",
    "    \n",
    "    # Spectrum\n",
    "    \n",
    "    plt.figure(figsize=(10,7))\n",
    "    #plt.title(abund[ind])\n",
    "    plt.plot(wlen/1e-4, flux_nu, label= str(np.round(ab[ind], 1)))\n",
    "    plt.xscale('log')\n",
    "    plt.xlabel('Wavelength (microns)')\n",
    "    plt.ylabel(r'Planet flux $F_\\nu$ (10$^{-6}$ erg cm$^{-2}$ s$^{-1}$ Hz$^{-1}$)')\n",
    "    \n",
    "    # PT profile\n",
    "    \n",
    "#     plt.plot(t1, p1, label= str(np.round(ab, 1)))\n",
    "#     plt.yscale('log')\n",
    "#     plt.ylim([1e2, 1e-6])\n",
    "#     plt.ylabel('')\n",
    "#     plt.xlabel('T (K)')\n",
    "#     plt.ylabel('P (bar)')\n",
    "    \n",
    "    plt.legend()\n",
    "    plt.show()\n",
    "    plt.clf()\n",
    "    break\n",
    "    \n",
    "# plt.legend()\n",
    "# plt.show()\n",
    "# plt.clf()"
   ]
  },
  {
   "cell_type": "code",
   "execution_count": null,
   "metadata": {},
   "outputs": [],
   "source": []
  }
 ],
 "metadata": {
  "kernelspec": {
   "display_name": "Python [conda env:petitRT]",
   "language": "python",
   "name": "conda-env-petitRT-py"
  },
  "language_info": {
   "codemirror_mode": {
    "name": "ipython",
    "version": 3
   },
   "file_extension": ".py",
   "mimetype": "text/x-python",
   "name": "python",
   "nbconvert_exporter": "python",
   "pygments_lexer": "ipython3",
   "version": "3.7.9"
  }
 },
 "nbformat": 4,
 "nbformat_minor": 4
}
