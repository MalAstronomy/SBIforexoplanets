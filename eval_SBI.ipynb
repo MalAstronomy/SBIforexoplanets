{
 "cells": [
  {
   "cell_type": "markdown",
   "metadata": {},
   "source": [
    "# SBI eval "
   ]
  },
  {
   "cell_type": "code",
   "execution_count": 22,
   "metadata": {},
   "outputs": [],
   "source": [
    "# 100k sim - 1 hr"
   ]
  },
  {
   "cell_type": "code",
   "execution_count": 1,
   "metadata": {},
   "outputs": [],
   "source": [
    "import time\n",
    "from petitRADTRANS import Radtrans\n",
    "import petitRADTRANS.retrieval_examples.emission.master_retrieval_model as rm\n",
    "from petitRADTRANS import nat_cst as nc\n",
    "import petitRADTRANS.rebin_give_width as rgw\n",
    "from scipy.interpolate import interp1d\n",
    "import sklearn\n",
    "\n",
    "import numpy as np\n",
    "import matplotlib.pyplot as plt\n",
    "import math\n",
    "import pandas as pd\n",
    "\n",
    "from torch.distributions import Independent, Distribution\n",
    "from fab_priors import BoxUniform_New\n",
    "\n",
    "import torch\n",
    "from sbi.inference import SNRE_A, SNRE, prepare_for_sbi, simulate_for_sbi\n",
    "from sbi.utils.get_nn_models import posterior_nn\n",
    "from sbi import utils as utils\n",
    "from sbi.types import Array, OneOrMore, ScalarFloat\n",
    "\n",
    "#from Simulator import Simulator"
   ]
  },
  {
   "cell_type": "code",
   "execution_count": null,
   "metadata": {},
   "outputs": [],
   "source": []
  },
  {
   "cell_type": "code",
   "execution_count": 2,
   "metadata": {},
   "outputs": [],
   "source": [
    "op= '/home/mvasist/petitRADTRANS/petitRADTRANS/retrieval_examples/emission/'\n",
    "observation_files = {}\n",
    "observation_files['NIRISS SOSS'] = op +'NIRISS_SOSS_flux.dat'\n",
    "observation_files['NIRSpec G395M'] = op +'NIRSpec_G395M_flux.dat'\n",
    "observation_files['MIRI LRS'] = op +'MIRI_LRS_flux.dat'\n",
    "\n",
    "# Wavelength range of observations, fixed parameters that will not be retrieved\n",
    "WLENGTH = [0.3, 15.0]\n",
    "# LOG_G =  2.58\n",
    "R_pl =   1.84*nc.r_jup_mean\n",
    "R_star = 1.81*nc.r_sun\n",
    "gamma = 1\n",
    "t_equ= 0\n",
    "\n",
    "# Get host star spectrum to calculate F_pl / F_star later.\n",
    "T_star = 6295.\n",
    "x = nc.get_PHOENIX_spec(T_star)\n",
    "fstar = interp1d(x[:,0], x[:,1])"
   ]
  },
  {
   "cell_type": "code",
   "execution_count": 3,
   "metadata": {},
   "outputs": [
    {
     "name": "stdout",
     "output_type": "stream",
     "text": [
      "NIRISS SOSS\n",
      "NIRSpec G395M\n",
      "MIRI LRS\n"
     ]
    }
   ],
   "source": [
    "####################################################################################\n",
    "####################################################################################\n",
    "### READ IN OBSERVATION\n",
    "####################################################################################\n",
    "####################################################################################\n",
    "\n",
    "# Read in data, convert all to cgs! \n",
    "\n",
    "'''\n",
    "Im using only data_flux_nu_error['MIRI LRS'] from here to calculate the likelihood. \n",
    "'''\n",
    "\n",
    "data_wlen = {}\n",
    "data_flux_nu = {}\n",
    "data_flux_nu_error = {}\n",
    "data_wlen_bins = {}\n",
    "\n",
    "for name in observation_files.keys():\n",
    "    print(name)\n",
    "    dat_obs = np.genfromtxt(observation_files[name])\n",
    "    data_wlen[name] = dat_obs[:,0]*1e-4\n",
    "    data_flux_nu[name] = dat_obs[:,1]\n",
    "    data_flux_nu_error[name] = dat_obs[:,2]\n",
    "    \n",
    "    data_wlen_bins[name] = np.zeros_like(data_wlen[name])\n",
    "    data_wlen_bins[name][:-1] = np.diff(data_wlen[name])\n",
    "    data_wlen_bins[name][-1] = data_wlen_bins[name][-2]"
   ]
  },
  {
   "cell_type": "code",
   "execution_count": 4,
   "metadata": {},
   "outputs": [],
   "source": [
    "def Simulator(params): \n",
    "\n",
    "    NaN_spectra = 0\n",
    "\n",
    "    atmosphere = Radtrans(line_species = ['H2O', 'CO_all_iso', \\\n",
    "                                         'CO2', 'CH4', \\\n",
    "                                          'Na', 'K'], \\\n",
    "          rayleigh_species = ['H2', 'He'], \\\n",
    "          continuum_opacities = ['H2-H2', 'H2-He'], \\\n",
    "          wlen_bords_micron = WLENGTH)#, mode='c-k')\n",
    "\n",
    "\n",
    "    pressures = np.logspace(-6, 2, 100)\n",
    "    atmosphere.setup_opa_structure(pressures)\n",
    "    temperature = 1200. * np.ones_like(pressures)\n",
    "\n",
    "    \n",
    "    t_int = params[0].numpy()                             #200.\n",
    "    log_kappa_IR = params[1].numpy()                      #-2\n",
    "    log_gravity = params[2].numpy()                       #params[5].numpy() 1e1**2.45 \n",
    "\n",
    "    gravity = np.exp(log_gravity)\n",
    "    kappa_IR = np.exp(log_kappa_IR)\n",
    "    \n",
    "    temperature = nc.guillot_global(pressures, kappa_IR, gamma, gravity, t_int, t_equ)\n",
    "    \n",
    "    abundances = {}\n",
    "    abundances['H2'] = 0.75 * np.ones_like(temperature) #0.74 * np.ones_like(temperature) (params[3].numpy())\n",
    "    abundances['He'] = 0.25 * np.ones_like(temperature)  #0.24 * np.ones_like(temperature) (params[4].numpy())\n",
    "    abundances['H2O'] = 0.001 * np.ones_like(temperature)\n",
    "    abundances['CO_all_iso'] = 0.01 * np.ones_like(temperature)\n",
    "    abundances['CO2'] = 0.00001 * np.ones_like(temperature)\n",
    "    abundances['CH4'] = 0.000001 * np.ones_like(temperature)\n",
    "    abundances['Na'] = 0.00001 * np.ones_like(temperature)\n",
    "    abundances['K'] = 0.000001 * np.ones_like(temperature)\n",
    "\n",
    "    MMW = rm.calc_MMW(abundances) * np.ones_like(temperature)\n",
    "    #print(MMW, abundances)\n",
    "    \n",
    "    atmosphere.calc_flux(temperature, abundances, gravity, MMW)\n",
    "\n",
    "    wlen, flux_nu = nc.c/atmosphere.freq, atmosphere.flux/1e-6\n",
    "\n",
    "\n",
    "    # Just to make sure that a long chain does not die\n",
    "    # unexpectedly:\n",
    "    # Return -inf if forward model returns NaN values\n",
    "    if np.sum(np.isnan(flux_nu)) > 0:\n",
    "        print(\"NaN spectrum encountered\")\n",
    "        NaN_spectra += 1\n",
    "        return torch.ones([1,371])* -np.inf\n",
    "\n",
    "    # Convert to observation for emission case\n",
    "    flux_star = fstar(wlen)\n",
    "    flux_sq   = flux_nu/flux_star*(R_pl/R_star)**2 \n",
    "\n",
    "    flux_rebinned = rgw.rebin_give_width(wlen, flux_sq, \\\n",
    "                data_wlen['MIRI LRS'], data_wlen_bins['MIRI LRS'])\n",
    "\n",
    "    #flux_rebinned = np.reshape(flux_rebinned, (371,1))    \n",
    "\n",
    "    FR= torch.Tensor(flux_rebinned)\n",
    "    \n",
    "    return FR    \n"
   ]
  },
  {
   "cell_type": "code",
   "execution_count": 5,
   "metadata": {},
   "outputs": [],
   "source": [
    "# Prior= utils.BoxUniform(low =torch.tensor([0., 0, 2.]), \\\n",
    "#                              high =torch.tensor([2., 4000, 3.7]))"
   ]
  },
  {
   "cell_type": "code",
   "execution_count": 6,
   "metadata": {},
   "outputs": [],
   "source": [
    "Prior= utils.BoxUniform(low=torch.tensor([0., -4 , 2 ]), high=torch.tensor([2000., 0, 3.7 ]))"
   ]
  },
  {
   "cell_type": "code",
   "execution_count": 7,
   "metadata": {},
   "outputs": [
    {
     "name": "stdout",
     "output_type": "stream",
     "text": [
      "\n",
      "  Read CIA opacities for H2-H2...\n",
      "  Read CIA opacities for H2-He...\n",
      " Done.\n",
      "\n",
      "\n",
      "  Read CIA opacities for H2-H2...\n",
      "  Read CIA opacities for H2-He...\n",
      " Done.\n",
      "\n"
     ]
    }
   ],
   "source": [
    "simulator, prior = prepare_for_sbi(Simulator, Prior)"
   ]
  },
  {
   "cell_type": "code",
   "execution_count": 8,
   "metadata": {},
   "outputs": [],
   "source": [
    "inference = SNRE_A(prior= Prior, device= 'cpu', classifier='resnet')"
   ]
  },
  {
   "cell_type": "code",
   "execution_count": null,
   "metadata": {},
   "outputs": [],
   "source": []
  },
  {
   "cell_type": "code",
   "execution_count": 10,
   "metadata": {},
   "outputs": [],
   "source": [
    "#reading the csv file\n",
    "\n",
    "# Xpd= pd.read_csv('X_1M.csv')\n",
    "# Tpd= pd.read_csv('T_1M.csv')\n",
    "\n",
    "X=[]\n",
    "T=[]\n",
    "\n",
    "# for i in range(1,11):\n",
    "# #     print(i)\n",
    "#     dfX= pd.read_csv('/home/mvasist/simulations/3_params/X_'+ str(i) + '.csv')\n",
    "#     dfT= pd.read_csv('/home/mvasist/simulations/3_params/T_'+ str(i) + '.csv')\n",
    "#     X.append(dfX.values)\n",
    "#     T.append(dfT.values)\n",
    "    \n",
    "# for j in range(1,51):\n",
    "#     dfX_= pd.read_csv('/home/mvasist/simulations/3_params/_X_'+ str(i) + '.csv')\n",
    "#     dfT_= pd.read_csv('/home/mvasist/simulations/3_params/_T_'+ str(i) + '.csv')\n",
    "#     X.append(dfX_.values)\n",
    "#     T.append(dfT_.values)\n",
    "    \n",
    "# for k in range(1, 101):\n",
    "#     dfX_M= pd.read_csv('/home/mvasist/simulations/3_params/X_1Msim_'+ str(k) + '.csv', low_memory = False) #chunksize=1000, iterator=True, dtype={'col2': np.float32}\n",
    "#     dfT_M= pd.read_csv('/home/mvasist/simulations/3_params/T_1Msim_'+ str(k) + '.csv', low_memory = False)\n",
    "#     X.append(dfX_M.values) #for x,t in zip(dfX_M,dfT_M):\n",
    "#     T.append(dfT_M.values)\n",
    "\n",
    "\n",
    "#log gamma, Tequ and log gravity \n",
    "for k in range(1, 101):\n",
    "    if k==15: continue\n",
    "    dfX_M= pd.read_csv('/home/mvasist/simulations/3_params/1/X_100ksim_TintLkIRLg'+ str(k) + '.csv', low_memory = False) #chunksize=1000, iterator=True, dtype={'col2': np.float32}\n",
    "    dfT_M= pd.read_csv('/home/mvasist/simulations/3_params/1/T_100ksim_TintLkIRLg'+ str(k) + '.csv', low_memory = False)\n",
    "    X.append(dfX_M.values) #for x,t in zip(dfX_M,dfT_M):\n",
    "    T.append(dfT_M.values)\n"
   ]
  },
  {
   "cell_type": "code",
   "execution_count": null,
   "metadata": {},
   "outputs": [],
   "source": []
  },
  {
   "cell_type": "code",
   "execution_count": null,
   "metadata": {},
   "outputs": [],
   "source": []
  },
  {
   "cell_type": "code",
   "execution_count": 11,
   "metadata": {},
   "outputs": [
    {
     "data": {
      "text/plain": [
       "99"
      ]
     },
     "execution_count": 11,
     "metadata": {},
     "output_type": "execute_result"
    }
   ],
   "source": [
    "len(X)"
   ]
  },
  {
   "cell_type": "code",
   "execution_count": 12,
   "metadata": {},
   "outputs": [],
   "source": [
    "# data = pd.read_csv(filepath, chunksize=1000, iterator=True) \n",
    "#Loop through the chunks and process the data\n",
    "    \n",
    "comb_np_array_X = np.vstack(X)\n",
    "comb_np_array_T = np.vstack(T)\n",
    "\n"
   ]
  },
  {
   "cell_type": "code",
   "execution_count": 13,
   "metadata": {},
   "outputs": [],
   "source": [
    "Xframe = pd.DataFrame(comb_np_array_X)\n",
    "Tframe = pd.DataFrame(comb_np_array_T)\n",
    "\n"
   ]
  },
  {
   "cell_type": "code",
   "execution_count": 14,
   "metadata": {},
   "outputs": [],
   "source": [
    "list_of_tensors_X = [torch.tensor(np.array(Xframe),dtype=torch.float32)]\n",
    "list_of_tensors_T = [torch.tensor(np.array(Tframe),dtype=torch.float32)] #torch.tensor\n"
   ]
  },
  {
   "cell_type": "code",
   "execution_count": 15,
   "metadata": {},
   "outputs": [],
   "source": [
    "XX = torch.cat(list_of_tensors_X)[:, 1:]\n",
    "TT = torch.cat(list_of_tensors_T)[:,1:]"
   ]
  },
  {
   "cell_type": "code",
   "execution_count": 16,
   "metadata": {},
   "outputs": [
    {
     "data": {
      "text/plain": [
       "torch.Size([98901, 371])"
      ]
     },
     "execution_count": 16,
     "metadata": {},
     "output_type": "execute_result"
    }
   ],
   "source": [
    "np.shape(XX)"
   ]
  },
  {
   "cell_type": "code",
   "execution_count": 17,
   "metadata": {},
   "outputs": [
    {
     "data": {
      "text/plain": [
       "torch.Size([98901, 3])"
      ]
     },
     "execution_count": 17,
     "metadata": {},
     "output_type": "execute_result"
    }
   ],
   "source": [
    "np.shape(TT)"
   ]
  },
  {
   "cell_type": "code",
   "execution_count": null,
   "metadata": {},
   "outputs": [],
   "source": []
  },
  {
   "cell_type": "code",
   "execution_count": 18,
   "metadata": {},
   "outputs": [],
   "source": [
    "inference = inference.append_simulations(TT, XX)"
   ]
  },
  {
   "cell_type": "code",
   "execution_count": null,
   "metadata": {},
   "outputs": [],
   "source": [
    "# 100k sim - epochs - 20 min"
   ]
  },
  {
   "cell_type": "code",
   "execution_count": 19,
   "metadata": {},
   "outputs": [
    {
     "name": "stdout",
     "output_type": "stream",
     "text": [
      "Neural network successfully converged after 55 epochs.\n"
     ]
    }
   ],
   "source": [
    "density_estimator = inference.train()"
   ]
  },
  {
   "cell_type": "code",
   "execution_count": 20,
   "metadata": {},
   "outputs": [],
   "source": [
    "posterior = inference.build_posterior(density_estimator)"
   ]
  },
  {
   "cell_type": "code",
   "execution_count": 21,
   "metadata": {},
   "outputs": [
    {
     "name": "stdout",
     "output_type": "stream",
     "text": [
      "Posterior conditional density p(θ|x) (amortized).\n",
      "\n",
      "This RatioBasedPosterior-object was obtained with a SNRE_A-class method using a residualnet.\n",
      "It provides MCMC to .sample() from the posterior and can evaluate the posterior density with .log_prob().\n"
     ]
    }
   ],
   "source": [
    "print(posterior)"
   ]
  },
  {
   "cell_type": "code",
   "execution_count": null,
   "metadata": {},
   "outputs": [],
   "source": []
  },
  {
   "cell_type": "code",
   "execution_count": 23,
   "metadata": {},
   "outputs": [],
   "source": [
    "observation = torch.load('3param_observation_TintkIRLg.pt') #log_gamma, T_int, T_equ = 1.5, 750, 2000\n"
   ]
  },
  {
   "cell_type": "code",
   "execution_count": 25,
   "metadata": {},
   "outputs": [],
   "source": [
    "# 100k samples is around 5 hours for 100k sim\n",
    "# 100k samples is around 6 hours for 200k sim\n",
    "\n",
    "#TintLkIRLg 100k sim: 10k sampl-23 min, 100ksampl-\n",
    "\n",
    "#100k gmTequG- 5:41 hrs"
   ]
  },
  {
   "cell_type": "code",
   "execution_count": null,
   "metadata": {},
   "outputs": [
    {
     "name": "stderr",
     "output_type": "stream",
     "text": [
      "Tuning bracket width...: 100%|██████████| 50/50 [01:41<00:00,  2.02s/it]  \n",
      "Generating samples: 100%|██████████| 20/20 [00:03<00:00,  6.49it/s]\n",
      "Generating samples:  40%|████      | 40250/100000 [1:37:53<2:19:28,  7.14it/s]"
     ]
    }
   ],
   "source": [
    "start = time.time()\n",
    "sampls= 100000\n",
    "\n",
    "samples = posterior.sample((sampls,), x=observation)\n",
    "log_probability = posterior.log_prob(samples, x= observation)\n",
    "end= time.time()\n",
    "print('it takes: '+ str((end-start)/60) + ' min')"
   ]
  },
  {
   "cell_type": "code",
   "execution_count": 26,
   "metadata": {},
   "outputs": [
    {
     "data": {
      "text/plain": [
       "torch.Size([10000, 3])"
      ]
     },
     "execution_count": 26,
     "metadata": {},
     "output_type": "execute_result"
    }
   ],
   "source": [
    "samples.size()\n",
    "#log_probability.size()"
   ]
  },
  {
   "cell_type": "code",
   "execution_count": 27,
   "metadata": {},
   "outputs": [],
   "source": [
    "points = torch.cat([torch.ones(1)*750.,torch.ones(1)*-2.,torch.ones(1)*2.58])"
   ]
  },
  {
   "cell_type": "code",
   "execution_count": 28,
   "metadata": {},
   "outputs": [
    {
     "data": {
      "image/png": "[encoded data removed]",
      "text/plain": [
       "<Figure size 720x720 with 9 Axes>"
      ]
     },
     "metadata": {
      "needs_background": "light"
     },
     "output_type": "display_data"
    }
   ],
   "source": [
    "fig, axes = utils.pairplot(samples, points, limits=[[0,2000.],[-4.,0.],[2.0,3.7]], fig_size=(10,10), \\\n",
    "                           labels = ['Tint \\n U(0,2000.)', 'log_kappa_IR \\n U(-4.,0.)', 'log_gravity \\n U(2,3.7)'],\\\n",
    "                           title= 'SNRE \\n BU_new prior :' + str(1) + 'M simulations, '+ str(10) + 'k samples',\\\n",
    "                          points_colors = ['red'])"
   ]
  },
  {
   "cell_type": "code",
   "execution_count": null,
   "metadata": {},
   "outputs": [],
   "source": []
  },
  {
   "cell_type": "code",
   "execution_count": null,
   "metadata": {},
   "outputs": [],
   "source": []
  },
  {
   "cell_type": "code",
   "execution_count": null,
   "metadata": {},
   "outputs": [],
   "source": []
  },
  {
   "cell_type": "code",
   "execution_count": 33,
   "metadata": {},
   "outputs": [],
   "source": [
    "# Saving the samples file\n",
    "\n",
    "df_samples = pd.DataFrame(samples.numpy())\n",
    "df_samples.to_csv('/home/mvasist/samples/10ksamples__resnet_e113_SBI_1Msim_gammaTequG_modif.csv',mode='a', header=False)\n",
    "\n",
    "df_lnprob = pd.DataFrame(log_probability.numpy())\n",
    "df_lnprob.to_csv('/home/mvasist/samples/10klnprob__resnet_e113_SBI_1Msim_gammaTequG_modif.csv',mode='a', header=False)"
   ]
  },
  {
   "cell_type": "code",
   "execution_count": null,
   "metadata": {},
   "outputs": [],
   "source": []
  },
  {
   "cell_type": "code",
   "execution_count": null,
   "metadata": {},
   "outputs": [],
   "source": []
  },
  {
   "cell_type": "code",
   "execution_count": null,
   "metadata": {},
   "outputs": [],
   "source": []
  },
  {
   "cell_type": "code",
   "execution_count": null,
   "metadata": {},
   "outputs": [],
   "source": []
  },
  {
   "cell_type": "code",
   "execution_count": null,
   "metadata": {},
   "outputs": [],
   "source": [
    "# resnet , mlp, linear"
   ]
  },
  {
   "cell_type": "code",
   "execution_count": 12,
   "metadata": {},
   "outputs": [],
   "source": [
    "# saved samples \n",
    "ss=[]\n",
    "\n",
    "#100klnprob_e76__SBI_200ksim.csv\n",
    "\n",
    "for i in ['10']:  #'100', '50', \n",
    "    s= pd.read_csv('/home/mvasist/samples/'+ i +'ksamples_e96__SBI_100ksim_gammaTequG.csv')   #waiting for this to be saved \n",
    "    ss.append(s.values)\n",
    "\n",
    "sss= np.vstack(ss)\n",
    "samples = pd.DataFrame(sss)\n",
    "\n",
    "#10ksamples_e96__SBI_100ksim_gammaTequG.csv\n"
   ]
  },
  {
   "cell_type": "code",
   "execution_count": 13,
   "metadata": {},
   "outputs": [],
   "source": [
    "samples = torch.tensor(np.array(samples),dtype=torch.float32)"
   ]
  },
  {
   "cell_type": "code",
   "execution_count": 14,
   "metadata": {},
   "outputs": [
    {
     "data": {
      "text/plain": [
       "torch.Size([9999, 4])"
      ]
     },
     "execution_count": 14,
     "metadata": {},
     "output_type": "execute_result"
    }
   ],
   "source": [
    "samples.size()"
   ]
  },
  {
   "cell_type": "code",
   "execution_count": 15,
   "metadata": {},
   "outputs": [],
   "source": [
    "points = torch.cat([torch.ones(1)*1.5,torch.ones(1)*2000.,torch.ones(1)*2.58])"
   ]
  },
  {
   "cell_type": "code",
   "execution_count": 20,
   "metadata": {},
   "outputs": [
    {
     "data": {
      "image/png": "[encoded data removed]",
      "text/plain": [
       "<Figure size 720x720 with 9 Axes>"
      ]
     },
     "metadata": {
      "needs_background": "light"
     },
     "output_type": "display_data"
    }
   ],
   "source": [
    "fig, axes = utils.pairplot(samples[:,1:], points, limits=[[0,3],[1800, 2200],[1, 4]], fig_size=(10,10), \\\n",
    "                           labels = ['log_gamma \\n normal(0.,2.)', 'Tequ \\n U(0.,4000)', 'log_gravity \\n U(2.0, 3.7)'],\\\n",
    "                           title= 'SNRE \\n Guillot direct \\n' + str(100) + 'k simulations, '+ str(10) + 'k samples',\\\n",
    "                          points_colors = ['red'])"
   ]
  },
  {
   "cell_type": "code",
   "execution_count": null,
   "metadata": {},
   "outputs": [],
   "source": []
  },
  {
   "cell_type": "code",
   "execution_count": null,
   "metadata": {},
   "outputs": [],
   "source": []
  },
  {
   "cell_type": "code",
   "execution_count": null,
   "metadata": {},
   "outputs": [],
   "source": []
  },
  {
   "cell_type": "code",
   "execution_count": null,
   "metadata": {},
   "outputs": [],
   "source": []
  },
  {
   "cell_type": "code",
   "execution_count": null,
   "metadata": {},
   "outputs": [],
   "source": []
  },
  {
   "cell_type": "code",
   "execution_count": null,
   "metadata": {},
   "outputs": [],
   "source": []
  },
  {
   "cell_type": "code",
   "execution_count": null,
   "metadata": {},
   "outputs": [],
   "source": []
  },
  {
   "cell_type": "code",
   "execution_count": null,
   "metadata": {},
   "outputs": [],
   "source": []
  },
  {
   "cell_type": "code",
   "execution_count": null,
   "metadata": {},
   "outputs": [],
   "source": []
  },
  {
   "cell_type": "code",
   "execution_count": null,
   "metadata": {},
   "outputs": [],
   "source": []
  },
  {
   "cell_type": "code",
   "execution_count": null,
   "metadata": {},
   "outputs": [],
   "source": [
    "# temp_params = {}\n",
    "# temp_params['log_delta'] = -5.5\n",
    "# temp_params['log_gamma'] = np.log10(0.4)\n",
    "# temp_params['t_int'] = 750.\n",
    "# temp_params['t_equ'] = 0.\n",
    "# temp_params['log_p_trans'] = -3.\n",
    "# temp_params['alpha'] = -0.25\n",
    "# pressures, temperature = nc.make_press_temp(temp_params)\n",
    "\n",
    "# # Create the Ratrans object here\n",
    "# rt_object = Radtrans(line_species=['H2O', 'CO_all_iso', \\\n",
    "#                                          'CO2', 'CH4', \\\n",
    "#                                           'Na', 'K'], \\\n",
    "#                     rayleigh_species=['H2','He'], \\\n",
    "#                     continuum_opacities = ['H2-H2','H2-He'], \\\n",
    "#                     mode='c-k', \\\n",
    "#                     wlen_bords_micron=WLENGTH)\n",
    "\n",
    "# # Create the RT arrays of appropriate lengths\n",
    "# rt_object.setup_opa_structure(pressures)\n",
    "\n",
    "# def Simulator(params): \n",
    "#     ##################\n",
    "\n",
    "#     NaN_spectra = 0\n",
    "    \n",
    "#     log_gamma = params[0].numpy()                            #log(0.4)\n",
    "#     t_equ = params[1].numpy()                                #1500.\n",
    "#     log_gravity = params[2].numpy()                                #params[5] 2.45 \n",
    "    \n",
    "#     # Make dictionary for modified Guillot parameters\n",
    "#     temp_params['log_gamma'] = log_gamma\n",
    "#     temp_params['t_equ'] = t_equ\n",
    "    \n",
    "#     log_P0 = -2.                                      #params[6] \n",
    "  \n",
    "#     gravity = np.exp(log_gravity)\n",
    "#     P0 = np.exp(log_P0)\n",
    "#     gamma = np.exp(log_gamma)\n",
    "\n",
    "    \n",
    "#     # Make dictionary for log 'metal' abundances    \n",
    "#     abundances_metals = {}\n",
    "        \n",
    "#     abundances_metals['H2O'] = -3              #np.exp(params[7]) * np.ones_like(temperature)\n",
    "#     abundances_metals['CO_all_iso'] = -2       #np.exp(params[8]) * np.ones_like(temperature)\n",
    "#     abundances_metals['CO2'] = -5              #np.exp(params[9]) * np.ones_like(temperature)\n",
    "#     abundances_metals['CH4'] = -6              #np.exp(params[10]) * np.ones_like(temperature)\n",
    "#     abundances_metals['Na'] = -5               #np.exp(params[11]) * np.ones_like(temperature)\n",
    "#     abundances_metals['K'] = -6                #np.exp(params[12]) * np.ones_like(temperature)\n",
    "    \n",
    "#     ####################################################################\n",
    "#     ####################################################################\n",
    "\n",
    "    \n",
    "#     wlen, flux_nu = \\\n",
    "#             rm.retrieval_model_plain(rt_object, temp_params, log_gravity, \\\n",
    "#                                          log_P0, R_pl, abundances_metals)\n",
    "    \n",
    "#     # Just to make sure that a long chain does not die\n",
    "#     # unexpectedly:\n",
    "#     # Return -inf if forward model returns NaN values\n",
    "#     if np.sum(np.isnan(flux_nu)) > 0:\n",
    "#         print(\"NaN spectrum encountered\")\n",
    "#         NaN_spectra += 1\n",
    "#         return -np.inf    \n",
    "\n",
    "#     # Convert to observation for emission case\n",
    "#     flux_star = fstar(wlen)\n",
    "#     flux_sq   = flux_nu/flux_star*(R_pl/R_star)**2 \n",
    "    \n",
    "#     # Rebin model to observation\n",
    "#     flux_rebinned = rgw.rebin_give_width(wlen, flux_sq, \\\n",
    "#                     data_wlen['MIRI LRS'], data_wlen_bins['MIRI LRS'])\n",
    "    \n",
    "#     FR= torch.Tensor(flux_rebinned)\n",
    "        \n",
    "#     return FR"
   ]
  },
  {
   "cell_type": "code",
   "execution_count": null,
   "metadata": {},
   "outputs": [],
   "source": []
  },
  {
   "cell_type": "code",
   "execution_count": null,
   "metadata": {},
   "outputs": [],
   "source": []
  },
  {
   "cell_type": "code",
   "execution_count": null,
   "metadata": {},
   "outputs": [],
   "source": []
  },
  {
   "cell_type": "code",
   "execution_count": null,
   "metadata": {},
   "outputs": [],
   "source": []
  },
  {
   "cell_type": "code",
   "execution_count": null,
   "metadata": {},
   "outputs": [],
   "source": []
  },
  {
   "cell_type": "code",
   "execution_count": null,
   "metadata": {},
   "outputs": [],
   "source": []
  },
  {
   "cell_type": "code",
   "execution_count": null,
   "metadata": {},
   "outputs": [],
   "source": []
  },
  {
   "cell_type": "code",
   "execution_count": null,
   "metadata": {},
   "outputs": [],
   "source": []
  }
 ],
 "metadata": {
  "kernelspec": {
   "display_name": "Python [conda env:petitRT]",
   "language": "python",
   "name": "conda-env-petitRT-py"
  },
  "language_info": {
   "codemirror_mode": {
    "name": "ipython",
    "version": 3
   },
   "file_extension": ".py",
   "mimetype": "text/x-python",
   "name": "python",
   "nbconvert_exporter": "python",
   "pygments_lexer": "ipython3",
   "version": "3.7.9"
  }
 },
 "nbformat": 4,
 "nbformat_minor": 4
}
