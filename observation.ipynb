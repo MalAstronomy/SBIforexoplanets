{
 "cells": [
  {
   "cell_type": "code",
   "execution_count": 4,
   "metadata": {},
   "outputs": [
    {
     "name": "stdout",
     "output_type": "stream",
     "text": [
      "MIRI LRS\n"
     ]
    }
   ],
   "source": [
    "from petitRADTRANS import Radtrans\n",
    "import petitRADTRANS.retrieval_examples.emission.master_retrieval_model as rm\n",
    "from petitRADTRANS import nat_cst as nc\n",
    "import petitRADTRANS.rebin_give_width as rgw\n",
    "from scipy.interpolate import interp1d\n",
    "import sklearn\n",
    "\n",
    "import numpy as np\n",
    "import matplotlib.pyplot as plt\n",
    "import math\n",
    "import pandas as pd\n",
    "import sys\n",
    "np.set_printoptions(threshold=sys.maxsize)\n",
    "\n",
    "\n",
    "from torch.distributions import Independent, Distribution\n",
    "sys.path.insert(1, '/home/mvasist/scripts/')\n",
    "from fab_priors import BoxUniform_New\n",
    "\n",
    "import torch\n",
    "from sbi.inference import SNRE_A, SNRE, prepare_for_sbi, simulate_for_sbi\n",
    "from sbi.utils.get_nn_models import posterior_nn\n",
    "from sbi import utils as utils\n",
    "from sbi.types import Array, OneOrMore, ScalarFloat\n",
    "\n",
    "\n",
    "retrieval_name = 'JWST_emission_petitRADTRANSpaper'\n",
    "absolute_path = 'output1/'# end with forward slash!\n",
    "op= '/home/mvasist/petitRADTRANS/petitRADTRANS/retrieval_examples/emission/'\n",
    "observation_files = {}\n",
    "# observation_files['NIRISS SOSS'] = op +'NIRISS_SOSS_flux.dat'\n",
    "# observation_files['NIRSpec G395M'] = op +'NIRSpec_G395M_flux.dat'\n",
    "observation_files['MIRI LRS'] = op +'MIRI_LRS_flux.dat'\n",
    "\n",
    "# Wavelength range of observations, fixed parameters that will not be retrieved\n",
    "WLENGTH = [0.3, 15.0]\n",
    "# LOG_G =  2.58\n",
    "R_pl =   1.84*nc.r_jup_mean\n",
    "R_star = 1.81*nc.r_sun\n",
    "gamma = 1\n",
    "t_equ= 0\n",
    "# Get host star spectrum to calculate F_pl / F_star later.\n",
    "T_star = 6295.\n",
    "x = nc.get_PHOENIX_spec(T_star)\n",
    "fstar = interp1d(x[:,0], x[:,1])\n",
    "   \n",
    "####################################################################################\n",
    "####################################################################################\n",
    "### READ IN OBSERVATION\n",
    "####################################################################################\n",
    "####################################################################################\n",
    "\n",
    "# Read in data, convert all to cgs!\n",
    "\n",
    "data_wlen = {}\n",
    "data_flux_nu = {}\n",
    "data_flux_nu_error = {}\n",
    "data_wlen_bins = {}\n",
    "\n",
    "for name in observation_files.keys():\n",
    "    print(name)\n",
    "    dat_obs = np.genfromtxt(observation_files[name])\n",
    "    data_wlen[name] = dat_obs[:,0]*1e-4\n",
    "    data_flux_nu[name] = dat_obs[:,1]\n",
    "    data_flux_nu_error[name] = dat_obs[:,2]\n",
    "\n",
    "    data_wlen_bins[name] = np.zeros_like(data_wlen[name])\n",
    "    data_wlen_bins[name][:-1] = np.diff(data_wlen[name])\n",
    "    data_wlen_bins[name][-1] = data_wlen_bins[name][-2]\n",
    "    \n",
    "    \n",
    "def Simulator(params): \n",
    "\n",
    "    NaN_spectra = 0\n",
    "\n",
    "    atmosphere = Radtrans(line_species = ['H2O', 'CO_all_iso', \\\n",
    "                                         'CO2', 'CH4', \\\n",
    "                                          'Na', 'K'], \\\n",
    "          rayleigh_species = ['H2', 'He'], \\\n",
    "          continuum_opacities = ['H2-H2', 'H2-He'], \\\n",
    "          wlen_bords_micron = [0.3, 15])#, mode='c-k')\n",
    "\n",
    "\n",
    "    pressures = np.logspace(-6, 2, 100)\n",
    "    atmosphere.setup_opa_structure(pressures)\n",
    "    temperature = 1200. * np.ones_like(pressures)\n",
    "\n",
    "    \n",
    "    t_int = params[0].numpy()                             #200.\n",
    "    log_kappa_IR = params[1].numpy()                      #-2\n",
    "    log_gravity = params[2].numpy()                       #params[5].numpy() 1e1**2.45 \n",
    "\n",
    "    gravity = np.exp(log_gravity)\n",
    "    kappa_IR = np.exp(log_kappa_IR)\n",
    "    \n",
    "    temperature = nc.guillot_global(pressures, kappa_IR, gamma, gravity, t_int, t_equ)\n",
    "    \n",
    "    abundances = {}\n",
    "    abundances['H2'] = 0.75 * np.ones_like(temperature) #0.74 * np.ones_like(temperature) (params[3].numpy())\n",
    "    abundances['He'] = 0.25 * np.ones_like(temperature)  #0.24 * np.ones_like(temperature) (params[4].numpy())\n",
    "    abundances['H2O'] = 0.001 * np.ones_like(temperature)\n",
    "    abundances['CO_all_iso'] = 0.01 * np.ones_like(temperature)\n",
    "    abundances['CO2'] = 0.00001 * np.ones_like(temperature)\n",
    "    abundances['CH4'] = 0.000001 * np.ones_like(temperature)\n",
    "    abundances['Na'] = 0.00001 * np.ones_like(temperature)\n",
    "    abundances['K'] = 0.000001 * np.ones_like(temperature)\n",
    "\n",
    "    MMW = rm.calc_MMW(abundances) * np.ones_like(temperature)\n",
    "    #print(MMW, abundances)\n",
    "    \n",
    "    atmosphere.calc_flux(temperature, abundances, gravity, MMW)\n",
    "\n",
    "    wlen, flux_nu = nc.c/atmosphere.freq, atmosphere.flux/1e-6\n",
    "\n",
    "\n",
    "    # Just to make sure that a long chain does not die\n",
    "    # unexpectedly:\n",
    "    # Return -inf if forward model returns NaN values\n",
    "    if np.sum(np.isnan(flux_nu)) > 0:\n",
    "        print(\"NaN spectrum encountered\")\n",
    "        NaN_spectra += 1\n",
    "        return torch.ones([1,371])* -np.inf\n",
    "\n",
    "    # Convert to observation for emission case\n",
    "    flux_star = fstar(wlen)\n",
    "    flux_sq   = flux_nu/flux_star*(R_pl/R_star)**2 \n",
    "\n",
    "    flux_rebinned = rgw.rebin_give_width(wlen, flux_sq, \\\n",
    "                data_wlen['MIRI LRS'], data_wlen_bins['MIRI LRS'])\n",
    "\n",
    "    #flux_rebinned = np.reshape(flux_rebinned, (371,1))    \n",
    "\n",
    "    FR= torch.Tensor(flux_rebinned)\n",
    "    \n",
    "    return FR    \n"
   ]
  },
  {
   "cell_type": "code",
   "execution_count": null,
   "metadata": {},
   "outputs": [],
   "source": []
  },
  {
   "cell_type": "code",
   "execution_count": 5,
   "metadata": {
    "scrolled": false
   },
   "outputs": [
    {
     "name": "stdout",
     "output_type": "stream",
     "text": [
      "\n",
      "  Read CIA opacities for H2-H2...\n",
      "  Read CIA opacities for H2-He...\n",
      " Done.\n",
      "\n"
     ]
    }
   ],
   "source": [
    "# observation = Simulator([torch.ones(1)*1.5,torch.ones(1)*750.,torch.ones(1)*2000., torch.ones(1)*0.74, \\\n",
    "#                          torch.ones(1)*0.24, torch.ones(1)*np.exp(2.45), torch.ones(1)*0.01])\n",
    "observation = Simulator([torch.ones(1)*750,torch.ones(1)*-2.,torch.ones(1)*2.58])"
   ]
  },
  {
   "cell_type": "code",
   "execution_count": 6,
   "metadata": {},
   "outputs": [
    {
     "data": {
      "text/plain": [
       "tensor([1053.2163, 1079.7252, 1106.5704, 1114.3883, 1135.2157, 1136.3796,\n",
       "        1165.9824, 1163.9946, 1180.6650, 1212.9110, 1185.7970, 1231.8154,\n",
       "        1236.7041, 1278.8025, 1311.2932, 1368.2617, 1344.4310, 1453.2354,\n",
       "        1475.0321, 1493.2058, 1552.0011, 1549.0497, 1581.4828, 1583.4569,\n",
       "        1518.4055, 1421.8916, 1349.7006, 1293.8495, 1211.9515, 1158.5317,\n",
       "        1191.2804, 1271.7653, 1243.0426, 1240.5101, 1233.8151, 1248.1403,\n",
       "        1295.7853, 1330.8970, 1376.8029, 1323.0421, 1342.7062, 1289.9531,\n",
       "        1378.9613, 1410.7173, 1354.9138, 1364.8306, 1352.7961, 1343.4548,\n",
       "        1368.2250, 1441.0481, 1400.2974, 1448.2278, 1476.5735, 1480.2354,\n",
       "        1478.5128, 1392.9747, 1489.0046, 1419.5800, 1421.0360, 1348.7645,\n",
       "        1444.7976, 1429.5165, 1496.0287, 1431.3527, 1452.4332, 1545.7810,\n",
       "        1474.1512, 1572.0148, 1568.2745, 1570.9081, 1563.0826, 1638.9364,\n",
       "        1589.0237, 1543.5105, 1591.2904, 1630.9772, 1627.8746, 1591.7473,\n",
       "        1617.3633, 1538.1355, 1719.4189, 1666.3934, 1715.6877, 1661.0238,\n",
       "        1762.5762, 1645.7781, 1716.6298, 1787.7889, 1793.0255, 1755.0194,\n",
       "        1820.7867, 1747.1819, 1726.5187, 1808.5066, 1774.3795, 1866.7411,\n",
       "        1870.1450, 1869.2899, 1918.2253, 1828.6461, 1867.4220, 1917.4827,\n",
       "        1882.9962, 1959.3561, 1916.3315, 1926.3214, 1955.2727, 1946.1616,\n",
       "        1949.9647, 1964.5298, 1995.2289, 1923.2491, 1918.4584, 2022.7003,\n",
       "        1995.2596, 2098.3491, 1975.0603, 1974.4303, 2000.8529, 2080.3794,\n",
       "        2090.0176, 2062.9199, 2144.0901, 2175.1765, 2104.1494, 2037.9517,\n",
       "        2047.1057, 2097.6719, 2092.3884, 2076.9314, 2122.4167, 2160.2566,\n",
       "        2137.8032, 2181.6860, 2149.3953, 2155.4543, 2154.7993, 2077.7939,\n",
       "        2108.5994, 2182.6697, 2206.8018, 2175.0967, 2157.1709, 2196.6965,\n",
       "        2222.5881, 2135.4067, 2165.0291, 2197.9280, 2191.4597, 2231.6997,\n",
       "        2257.3904, 2242.4409, 2171.3689, 2222.2742, 2219.0505, 2210.0479,\n",
       "        2239.8406, 2220.9409, 2254.8198, 2234.6365, 2279.7437, 2188.4631,\n",
       "        2119.2615, 2253.0671, 2229.8057, 2225.4500, 2254.6411, 2302.0828,\n",
       "        2236.8442, 2177.7117, 2166.5596, 2168.3677, 2257.4167, 2240.3552,\n",
       "        2277.5664, 2308.5369, 2124.2981, 2278.9026, 2172.8540, 2217.0090,\n",
       "        2240.8103, 2366.6487, 2286.7039, 2305.0862, 2226.1809, 2194.2366,\n",
       "        2281.5962, 2194.2852, 2256.0161, 2200.4983, 2143.3303, 2255.6917,\n",
       "        2254.6462, 2178.1514, 2146.8015, 2240.6299, 2278.3149, 2267.7720,\n",
       "        2277.6931, 2270.9329, 2224.9446, 2197.1079, 2218.0798, 2257.1838,\n",
       "        2280.9182, 2274.3823, 2288.3743, 2218.5547, 2249.9939, 2328.4424,\n",
       "        2257.6985, 2274.5032, 2296.2378, 2397.9309, 2207.9536, 2232.6926,\n",
       "        2220.1499, 2259.9443, 2338.2380, 2259.8289, 2205.5876, 2194.5549,\n",
       "        2292.4102, 2214.2168, 2238.8384, 2265.5222, 2281.6541, 2298.3350,\n",
       "        2262.9229, 2299.2493, 2156.0298, 2127.6228, 2138.2419, 2195.3879,\n",
       "        2278.4290, 2237.5469, 2207.1184, 2302.1155, 2265.4802, 2318.8489,\n",
       "        2250.6702, 2196.7876, 2287.2615, 2283.8931, 2150.3108, 2335.9814,\n",
       "        2290.0901, 2326.2146, 2277.3364, 2254.0991, 2215.2183, 2271.0100,\n",
       "        2325.9443, 2294.6436, 2239.2334, 2182.3474, 2323.1846, 2393.1443,\n",
       "        2296.4592, 2304.3779, 2314.7698, 2234.8442, 2261.8396, 2148.8909,\n",
       "        2315.6494, 2270.1133, 2283.7783, 2325.2439, 2265.0391, 2311.3506,\n",
       "        2220.1021, 2224.8674, 2212.1880, 2105.3545, 2234.2854, 2266.3696,\n",
       "        2202.4492, 2224.3264, 2180.0872, 2192.8433, 2183.3142, 2220.7695,\n",
       "        2159.3452, 2198.5193, 2234.5266, 2221.9419, 2219.2168, 2116.7986,\n",
       "        2123.1580, 2237.0471, 2284.2524, 2214.4961, 2253.7947, 2133.7336,\n",
       "        2117.6641, 2203.2397, 2126.2817, 2151.2214, 2163.9800, 2122.3953,\n",
       "        2215.3098, 2262.6987, 2241.7710, 2195.2200, 2176.8621, 2220.7249,\n",
       "        2204.3037, 2254.8416, 2131.4722, 2152.5481, 2168.7009, 2014.0748,\n",
       "        2063.9712, 2177.9873, 2224.1838, 2192.0906, 2270.6140, 2271.7742,\n",
       "        2157.8767, 2147.6040, 2148.5974, 2166.1252, 2237.9050, 2151.6995,\n",
       "        2004.8556, 2084.7734, 2023.8407, 1982.4636, 2065.1196, 2053.5601,\n",
       "        2068.1626, 2191.0464, 2084.4309, 2153.9495, 2161.2493, 2220.1255,\n",
       "        2217.4341, 2205.1682, 2127.3687, 2121.6548, 2101.5244, 2046.1963,\n",
       "        2069.7617, 1894.7291, 1915.0588, 1960.6233, 2124.5930, 2065.6067,\n",
       "        2011.1090, 2141.7905, 2052.2151, 2127.5696, 2092.0164, 2130.5146,\n",
       "        2091.9143, 2083.4797, 2060.2703, 2107.1396, 2047.9873, 2046.6426,\n",
       "        1959.8085, 2022.8568, 2151.4675, 2027.8307, 1934.9138, 2054.3718,\n",
       "        2146.2742, 2045.1165, 2088.9729, 2073.8533, 1973.4889])"
      ]
     },
     "execution_count": 6,
     "metadata": {},
     "output_type": "execute_result"
    }
   ],
   "source": [
    "observation"
   ]
  },
  {
   "cell_type": "code",
   "execution_count": 7,
   "metadata": {},
   "outputs": [],
   "source": [
    "torch.save(observation, '3param_observation_TintkIRLg.pt')"
   ]
  },
  {
   "cell_type": "code",
   "execution_count": 11,
   "metadata": {},
   "outputs": [],
   "source": [
    "# observation"
   ]
  },
  {
   "cell_type": "code",
   "execution_count": 1,
   "metadata": {},
   "outputs": [],
   "source": [
    "# temp_params = {}\n",
    "# temp_params['log_delta'] = -5.5\n",
    "# temp_params['log_gamma'] = np.log10(0.4)\n",
    "# temp_params['t_int'] = 750.\n",
    "# temp_params['t_equ'] = 0.\n",
    "# temp_params['log_p_trans'] = -3.\n",
    "# temp_params['alpha'] = -0.25\n",
    "# pressures, temperature = nc.make_press_temp(temp_params)\n",
    "\n",
    "# # Create the Ratrans object here\n",
    "# rt_object = Radtrans(line_species=['H2O', 'CO_all_iso', \\\n",
    "#                                          'CO2', 'CH4', \\\n",
    "#                                           'Na', 'K'], \\\n",
    "#                     rayleigh_species=['H2','He'], \\\n",
    "#                     continuum_opacities = ['H2-H2','H2-He'], \\\n",
    "#                     mode='c-k', \\\n",
    "#                     wlen_bords_micron=WLENGTH)\n",
    "\n",
    "# # Create the RT arrays of appropriate lengths\n",
    "# rt_object.setup_opa_structure(pressures)\n",
    "\n",
    "# def Simulator_paul(params): \n",
    "#     ##################\n",
    "\n",
    "#     NaN_spectra = 0\n",
    "    \n",
    "#     log_gamma = params[0].numpy()[0]                            #log(0.4)\n",
    "#     t_equ = params[1].numpy()[0]                                #1500.\n",
    "#     log_gravity = params[2].numpy()[0]                                #params[5] 2.45 \n",
    "    \n",
    "#     # Make dictionary for modified Guillot parameters\n",
    "#     temp_params['log_gamma'] = log_gamma\n",
    "#     temp_params['t_equ'] = t_equ\n",
    "    \n",
    "#     log_P0 = -2.                                      #params[6] \n",
    "  \n",
    "#     gravity = np.exp(log_gravity)\n",
    "#     P0 = np.exp(log_P0)\n",
    "#     gamma = np.exp(log_gamma)\n",
    "\n",
    "    \n",
    "#     # Make dictionary for log 'metal' abundances    \n",
    "#     abundances_metals = {}\n",
    "        \n",
    "#     abundances_metals['H2O'] = -3              #np.exp(params[7]) * np.ones_like(temperature)\n",
    "#     abundances_metals['CO_all_iso'] = -2       #np.exp(params[8]) * np.ones_like(temperature)\n",
    "#     abundances_metals['CO2'] = -5              #np.exp(params[9]) * np.ones_like(temperature)\n",
    "#     abundances_metals['CH4'] = -6              #np.exp(params[10]) * np.ones_like(temperature)\n",
    "#     abundances_metals['Na'] = -5               #np.exp(params[11]) * np.ones_like(temperature)\n",
    "#     abundances_metals['K'] = -6                #np.exp(params[12]) * np.ones_like(temperature)\n",
    "    \n",
    "#     ####################################################################\n",
    "#     ####################################################################\n",
    "\n",
    "    \n",
    "#     wlen, flux_nu = \\\n",
    "#             rm.retrieval_model_plain(rt_object, temp_params, log_gravity, \\\n",
    "#                                          log_P0, R_pl, abundances_metals)\n",
    "# #     flux_nu = flux_nu/1e-6\n",
    "    \n",
    "#     # Just to make sure that a long chain does not die\n",
    "#     # unexpectedly:\n",
    "#     # Return -inf if forward model returns NaN values\n",
    "#     if np.sum(np.isnan(flux_nu)) > 0:\n",
    "#         print(\"NaN spectrum encountered\")\n",
    "#         NaN_spectra += 1\n",
    "#         return -np.inf    \n",
    "\n",
    "#     # Convert to observation for emission case\n",
    "#     flux_star = fstar(wlen)\n",
    "#     flux_sq   = flux_nu/flux_star*(R_pl/R_star)**2 \n",
    "    \n",
    "#     # Rebin model to observation\n",
    "#     flux_rebinned = rgw.rebin_give_width(wlen, flux_sq, \\\n",
    "#                     data_wlen['MIRI LRS'], data_wlen_bins['MIRI LRS'])\n",
    "    \n",
    "#     FR= torch.Tensor(flux_rebinned)\n",
    "    \n",
    "#     p2, t2 = nc.make_press_temp(temp_params)\n",
    "    \n",
    "#     return FR\n",
    "\n"
   ]
  },
  {
   "cell_type": "code",
   "execution_count": null,
   "metadata": {},
   "outputs": [],
   "source": [
    "# observation = Simulator_paul([torch.ones(1)*1.5,torch.ones(1)*2000.,torch.ones(1)*2.58])\n"
   ]
  },
  {
   "cell_type": "code",
   "execution_count": null,
   "metadata": {},
   "outputs": [],
   "source": []
  },
  {
   "cell_type": "code",
   "execution_count": null,
   "metadata": {},
   "outputs": [],
   "source": []
  },
  {
   "cell_type": "code",
   "execution_count": null,
   "metadata": {},
   "outputs": [],
   "source": []
  },
  {
   "cell_type": "code",
   "execution_count": 12,
   "metadata": {},
   "outputs": [],
   "source": [
    "a=[]\n",
    "for i in range(1000):\n",
    "    a.append(-4 + 4*np.random.uniform(size=1)[0])"
   ]
  },
  {
   "cell_type": "code",
   "execution_count": 13,
   "metadata": {},
   "outputs": [
    {
     "data": {
      "text/plain": [
       "(array([102.,  92.,  89.,  96.,  99., 112., 104., 100., 105., 101.]),\n",
       " array([-3.99694986e+00, -3.59732190e+00, -3.19769395e+00, -2.79806599e+00,\n",
       "        -2.39843804e+00, -1.99881008e+00, -1.59918213e+00, -1.19955417e+00,\n",
       "        -7.99926215e-01, -4.00298260e-01, -6.70304009e-04]),\n",
       " <BarContainer object of 10 artists>)"
      ]
     },
     "execution_count": 13,
     "metadata": {},
     "output_type": "execute_result"
    },
    {
     "data": {
      "image/png": "[encoded data removed]",
      "text/plain": [
       "<Figure size 432x288 with 1 Axes>"
      ]
     },
     "metadata": {
      "needs_background": "light"
     },
     "output_type": "display_data"
    }
   ],
   "source": [
    "plt.hist(a)"
   ]
  },
  {
   "cell_type": "code",
   "execution_count": null,
   "metadata": {},
   "outputs": [],
   "source": []
  }
 ],
 "metadata": {
  "kernelspec": {
   "display_name": "Python [conda env:petitRT]",
   "language": "python",
   "name": "conda-env-petitRT-py"
  },
  "language_info": {
   "codemirror_mode": {
    "name": "ipython",
    "version": 3
   },
   "file_extension": ".py",
   "mimetype": "text/x-python",
   "name": "python",
   "nbconvert_exporter": "python",
   "pygments_lexer": "ipython3",
   "version": "3.7.9"
  }
 },
 "nbformat": 4,
 "nbformat_minor": 4
}
