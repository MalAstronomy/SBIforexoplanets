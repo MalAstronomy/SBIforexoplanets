{
 "cells": [
  {
   "cell_type": "code",
   "execution_count": 3,
   "source": [
    "import csv\n",
    "import pandas as pd \n",
    "import h5py\n",
    "import os\n",
    "import numpy as np\n",
    "import torch"
   ],
   "outputs": [],
   "metadata": {}
  },
  {
   "cell_type": "code",
   "execution_count": 33,
   "source": [
    "############# for all\n",
    "\n",
    "path = '/home/mvasist/simulations/6_params/'  \n",
    "\n",
    "X=[]\n",
    "T=[]\n",
    "for k in range(1, 75): #60, 79\n",
    "    # if k==79: continue\n",
    "    dfX_M= pd.read_csv(path+ 'X_1.5Msim_TintLkIRLgLH2OLCH4LCO'+ str(k) + '.csv', engine ='python')  #, low_memory = False)\n",
    "    dfT_M= pd.read_csv(path+ 'T_1.5Msim_TintLkIRLgLH2OLCH4LCO'+ str(k) + '.csv', engine ='python')  #, low_memory = False)\n",
    "    # print(len(dfX_M.values), k)\n",
    "    X.append(dfX_M.values) \n",
    "    T.append(dfT_M.values)\n",
    "\n",
    "comb_np_array_X = np.vstack(X)\n",
    "comb_np_array_T = np.vstack(T)\n",
    "\n",
    "x = torch.from_numpy(comb_np_array_X[:,1:])\n",
    "t = torch.from_numpy(comb_np_array_T[:,1:])\n",
    "\n",
    "xt=[]\n",
    "for i in range(len(x)):\n",
    "    xt.append(torch.cat([t[i],x[i]]))\n",
    "xt = torch.cat(xt)\n",
    "xt = xt.reshape(len(x),int(len(xt)/len(x)))\n",
    "\n",
    "xt_shuffled=[]\n",
    "for j in range(len(x)):\n",
    "    r=np.random.randint(0,len(x))\n",
    "    if r==j:\n",
    "        r= np.random.randint(0,len(x))\n",
    "    xt_shuffled.append(torch.cat([t[j],x[r]]))\n",
    "xt_shuffled = torch.cat(xt_shuffled)\n",
    "xt_shuffled = xt_shuffled.reshape(len(x),int(len(xt_shuffled)/len(x)))\n",
    "\n",
    "XT = torch.cat((xt,xt_shuffled),axis=0)\n",
    "labels = torch.cat((torch.ones(len(x),1),torch.zeros(len(x),1)))\n",
    "\n",
    "sample = {'target': labels, 'input': XT }\n"
   ],
   "outputs": [],
   "metadata": {}
  },
  {
   "cell_type": "code",
   "execution_count": 34,
   "source": [
    "len(XT) #, labels #= XT[:10000], labels[:10000]"
   ],
   "outputs": [
    {
     "output_type": "execute_result",
     "data": {
      "text/plain": [
       "221852"
      ]
     },
     "metadata": {},
     "execution_count": 34
    }
   ],
   "metadata": {}
  },
  {
   "cell_type": "code",
   "execution_count": null,
   "source": [
    "\n"
   ],
   "outputs": [],
   "metadata": {}
  },
  {
   "cell_type": "code",
   "execution_count": 35,
   "source": [
    "labels"
   ],
   "outputs": [
    {
     "output_type": "execute_result",
     "data": {
      "text/plain": [
       "tensor([[1.],\n",
       "        [1.],\n",
       "        [1.],\n",
       "        ...,\n",
       "        [0.],\n",
       "        [0.],\n",
       "        [0.]])"
      ]
     },
     "metadata": {},
     "execution_count": 35
    }
   ],
   "metadata": {}
  },
  {
   "cell_type": "code",
   "execution_count": 5,
   "source": [
    "# XT, labels = XT[:1000], labels[:1000] "
   ],
   "outputs": [],
   "metadata": {}
  },
  {
   "cell_type": "code",
   "execution_count": 36,
   "source": [
    "with h5py.File('6params_train_bce1M2.h5', 'w') as f: \n",
    "    f.create_dataset('data', data= XT, dtype=np.float32)\n",
    "    f.create_dataset('labels', data=labels, dtype=np.float32)\n",
    "f.close()"
   ],
   "outputs": [],
   "metadata": {}
  },
  {
   "cell_type": "code",
   "execution_count": 37,
   "source": [
    "with h5py.File('6params_train_bce1M2.h5', 'r') as f: \n",
    "    d = np.array(f.get('data'))\n",
    "    l = np.array(f.get('labels'))\n",
    "f.close()"
   ],
   "outputs": [],
   "metadata": {}
  },
  {
   "cell_type": "code",
   "execution_count": 38,
   "source": [
    "len(d)"
   ],
   "outputs": [
    {
     "output_type": "execute_result",
     "data": {
      "text/plain": [
       "221852"
      ]
     },
     "metadata": {},
     "execution_count": 38
    }
   ],
   "metadata": {}
  },
  {
   "cell_type": "code",
   "execution_count": null,
   "source": [],
   "outputs": [],
   "metadata": {}
  },
  {
   "cell_type": "code",
   "execution_count": null,
   "source": [],
   "outputs": [],
   "metadata": {}
  }
 ],
 "metadata": {
  "kernelspec": {
   "name": "python3",
   "display_name": "Python 3.7.9 64-bit ('petitRT': conda)"
  },
  "language_info": {
   "codemirror_mode": {
    "name": "ipython",
    "version": 3
   },
   "file_extension": ".py",
   "mimetype": "text/x-python",
   "name": "python",
   "nbconvert_exporter": "python",
   "pygments_lexer": "ipython3",
   "version": "3.7.9"
  },
  "metadata": {
   "interpreter": {
    "hash": "053f7b951a20efe85488de1570824a0781986dee3b05d2dd48141921f84a409e"
   }
  },
  "interpreter": {
   "hash": "053f7b951a20efe85488de1570824a0781986dee3b05d2dd48141921f84a409e"
  }
 },
 "nbformat": 4,
 "nbformat_minor": 4
}